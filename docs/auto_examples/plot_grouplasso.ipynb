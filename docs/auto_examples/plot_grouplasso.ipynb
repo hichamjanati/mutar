{
  "cells": [
    {
      "cell_type": "code",
      "execution_count": null,
      "metadata": {
        "collapsed": false
      },
      "outputs": [],
      "source": [
        "%matplotlib inline"
      ]
    },
    {
      "cell_type": "markdown",
      "metadata": {},
      "source": [
        "\nJoint feature selection with the Group Lasso\n============================================\n\nThe GroupLasso estimates a set of sparse coefficients for multiple regression\nmodels that share the same non-zero features. All features (variable) are\neither zero for all tasks or for None of them. The `GroupLasso` takes a 3D\n`X (n_tasks, n_samples, n_features)` and a 2D `y (n_tasks, n_samples)`. If the\ndesign matrix `X` of the data is the same for all tasks, we recommand using\nscikit-learn's MultiTaskLasso.\n\nThe Group Lasso solves the optimization problem::\n\n\n        (1 / (2 * n_samples)) * ||Y - XW||_Fro^2\n        + alpha * ||W||_21\n\n\n\n"
      ]
    },
    {
      "cell_type": "code",
      "execution_count": null,
      "metadata": {
        "collapsed": false
      },
      "outputs": [],
      "source": [
        "# Author: Hicham Janati (hicham.janati@inria.fr)\n#\n# License: BSD (3-clause)\n\nimport numpy as np\nfrom matplotlib import pyplot as plt\n\nfrom mutar import GroupLasso"
      ]
    },
    {
      "cell_type": "markdown",
      "metadata": {},
      "source": [
        "Generate multi-task data\n\n\n"
      ]
    },
    {
      "cell_type": "code",
      "execution_count": null,
      "metadata": {
        "collapsed": false
      },
      "outputs": [],
      "source": [
        "rng = np.random.RandomState(42)\nn_tasks, n_samples, n_features = 10, 100, 30\nX = rng.randn(n_tasks, n_samples, n_features)\ncoef = np.zeros((n_features, n_tasks))\n\n# The features 0, 2, 4, 6 are shared for all 10 tasks\ncoef[:7:2] = rng.randn(4, n_tasks)\n\n# We pick some additional features for tasks 1 and 3\ncoef[[10, 20], [1, 3]] = rng.randn(2)\n\ny = np.array([x.dot(c) for x, c in zip(X, coef.T)])\n\n# add noise\ny += 0.2 * np.std(y) + rng.randn(n_tasks, n_samples)"
      ]
    },
    {
      "cell_type": "markdown",
      "metadata": {},
      "source": [
        "Group Lasso fit\n\n"
      ]
    },
    {
      "cell_type": "code",
      "execution_count": null,
      "metadata": {
        "collapsed": false
      },
      "outputs": [],
      "source": [
        "alpha = 0.5\ngl = GroupLasso(alpha=alpha)\ngl.fit(X, y)"
      ]
    },
    {
      "cell_type": "markdown",
      "metadata": {},
      "source": [
        "Plot the supports of the true and obtained coefficients.\n\n"
      ]
    },
    {
      "cell_type": "code",
      "execution_count": null,
      "metadata": {
        "collapsed": false
      },
      "outputs": [],
      "source": [
        "f, axes = plt.subplots(1, 2, figsize=(12, 4))\nfor ax, coef, name in zip(axes, [coef, gl.coef_], [\"True\", \"GroupLasso\"]):\n    ax.imshow(coef != 0)\n    ax.set_title(name)\n    ax.set_xlabel(\"Tasks\")\n    ax.set_ylabel(\"Features\")\n\nplt.show()"
      ]
    }
  ],
  "metadata": {
    "kernelspec": {
      "display_name": "Python 3",
      "language": "python",
      "name": "python3"
    },
    "language_info": {
      "codemirror_mode": {
        "name": "ipython",
        "version": 3
      },
      "file_extension": ".py",
      "mimetype": "text/x-python",
      "name": "python",
      "nbconvert_exporter": "python",
      "pygments_lexer": "ipython3",
      "version": "3.6.8"
    }
  },
  "nbformat": 4,
  "nbformat_minor": 0
}