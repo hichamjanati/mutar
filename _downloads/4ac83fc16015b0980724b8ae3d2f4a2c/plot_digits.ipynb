{
  "cells": [
    {
      "cell_type": "code",
      "execution_count": null,
      "metadata": {
        "collapsed": false
      },
      "outputs": [],
      "source": [
        "%matplotlib inline"
      ]
    },
    {
      "cell_type": "markdown",
      "metadata": {},
      "source": [
        "\n# MTW Handwritten Digits Classification\n\n\nThis example performs classification of Handwritten digits using MTW.\nEach digit recognition is learned as a sparse regression task. This example\ncan be used to reproduce the results of (Janati et al., Aistats'19).\n\n"
      ]
    },
    {
      "cell_type": "code",
      "execution_count": null,
      "metadata": {
        "collapsed": false
      },
      "outputs": [],
      "source": [
        "import numpy as np\nimport os\nfrom download import download\n\nfrom mutar import MTW, utils\n\nfrom matplotlib import pyplot as plt\n\nprint(__doc__)\n\nseed = 42\nrnd = np.random.RandomState(seed)\n\n# set n_samples\nn_samples = 30\nn_features = 240\n\n# take only 3 tasks to run example fast\ntasks = [0, 1, 2, 4, 5, 6]\ntasks = [0, 1, 2]\nn_tasks = len(tasks)\nmtgl_only = False\npositive = False"
      ]
    },
    {
      "cell_type": "markdown",
      "metadata": {},
      "source": [
        "Download data. The images 'X' are grouped and sorted. Generate true\nlabels 'Y' accordingly\n\n"
      ]
    },
    {
      "cell_type": "code",
      "execution_count": null,
      "metadata": {
        "collapsed": false
      },
      "outputs": [],
      "source": [
        "if not os.path.exists('./data'):\n    os.mkdir('./data')\nurl = \"http://archive.ics.uci.edu/ml/machine-learning-databases/\"\nurl += \"mfeat/mfeat-pix\"\npath = download(url, \".data/digits.txt\", replace=True)\nXraw = np.loadtxt(\".data/digits.txt\")\nXraw = Xraw.reshape(10, 200, 240)\nyraw = np.zeros((10, 2000))\nfor k in range(10):\n    yraw[k, 200 * k: 200 * (k + 1)] = 1.\nyraw = yraw.reshape(10, 10, 200)"
      ]
    },
    {
      "cell_type": "markdown",
      "metadata": {},
      "source": [
        "Each digit corresponds to a task. Reshape data to fit a multi-task\nlearner and split it into a cv and validation set.\nHere the design matrix X is the same for all tasks.\"\"\"\n\n"
      ]
    },
    {
      "cell_type": "code",
      "execution_count": null,
      "metadata": {
        "collapsed": false
      },
      "outputs": [],
      "source": [
        "samples = np.arange(200)\nsamples = rnd.permutation(samples)[:n_samples]\nmask_valid = np.ones(200).astype(bool)\nmask_valid[samples] = False\nycv = yraw[tasks][:, tasks][:, :, samples].reshape(n_tasks, -1)\nyvalid = yraw[tasks][:, tasks][:, :, mask_valid].reshape(n_tasks, -1)\nyvalid = np.argmax(yvalid, axis=0)\nXvalid = Xraw[tasks][:, mask_valid].reshape(-1, n_features)\nX = Xraw[tasks][:, samples]\nX = X.reshape(n_tasks * n_samples, n_features)\nscaling = X.std(axis=0)\nscaling[scaling == 0] = 1\nX = X / scaling\nXcv = np.array(n_tasks * [X])"
      ]
    },
    {
      "cell_type": "markdown",
      "metadata": {},
      "source": [
        "Compute a Euclidean Ground metric M on a 2D grid.\n\n"
      ]
    },
    {
      "cell_type": "code",
      "execution_count": null,
      "metadata": {
        "collapsed": false
      },
      "outputs": [],
      "source": [
        "x = np.arange(16).reshape(-1, 1).astype(float)\ny = np.arange(15).reshape(-1, 1).astype(float)\n\nxx, yy = np.meshgrid(x, y)\nM1 = abs(xx - yy) ** 2\nM = M1[:, np.newaxis, :, np.newaxis] + M1[np.newaxis, :, np.newaxis, :]\nM = M.reshape(n_features, n_features) ** 0.5\nM_ = M ** 2\nM_ /= np.median(M_)"
      ]
    },
    {
      "cell_type": "markdown",
      "metadata": {},
      "source": [
        "Create an MTW instance and fit\n\n"
      ]
    },
    {
      "cell_type": "code",
      "execution_count": null,
      "metadata": {
        "collapsed": false
      },
      "outputs": [],
      "source": [
        "epsilon = 10. / n_features\nbetamax = np.array([abs(x.T.dot(y)) for x, y in zip(Xcv, ycv)]).max()\nalpha = 0.2\nbeta = 0.03 * betamax / n_samples\ngamma = utils.compute_gamma(0.8, M)\nmtw = MTW(M=M_, alpha=alpha, beta=beta, epsilon=epsilon, gamma=gamma)\n\nmtw.fit(Xcv, ycv)\ncoefs_ = mtw.coef_.copy()\nypred = np.argmax(Xvalid.dot(coefs_), axis=1)\nerrors = (ypred != yvalid).reshape(n_tasks, -1).mean(axis=1)\n\nprint(f\"Classification error for predicting digits {tasks}:\")\nprint(errors)"
      ]
    },
    {
      "cell_type": "markdown",
      "metadata": {},
      "source": [
        "Imshow coefficients\n\n"
      ]
    },
    {
      "cell_type": "code",
      "execution_count": null,
      "metadata": {
        "collapsed": false
      },
      "outputs": [],
      "source": [
        "largecoef = np.zeros((n_tasks, 24, 24))\ncoefs_ = mtw.coef_.copy()\ncoefs_ /= coefs_.max(axis=0)[None, :]\ncoefs_ = np.clip(coefs_, 0, None)\nc = coefs_.reshape(16, 15, n_tasks)\nc = np.swapaxes(c, 0, 2)\nlargecoef[:, 4:19][:, :, 4:20] = c\n\nf, axes = plt.subplots(1, n_tasks)\nfor ax, coef in zip(axes.T, largecoef):\n    ax.imshow(np.log(coef.T + 0.1), cmap=\"hot\")\n    ax.set_xticks([])\n    ax.set_yticks([])\nplt.show()"
      ]
    }
  ],
  "metadata": {
    "kernelspec": {
      "display_name": "Python 3",
      "language": "python",
      "name": "python3"
    },
    "language_info": {
      "codemirror_mode": {
        "name": "ipython",
        "version": 3
      },
      "file_extension": ".py",
      "mimetype": "text/x-python",
      "name": "python",
      "nbconvert_exporter": "python",
      "pygments_lexer": "ipython3",
      "version": "3.6.8"
    }
  },
  "nbformat": 4,
  "nbformat_minor": 0
}