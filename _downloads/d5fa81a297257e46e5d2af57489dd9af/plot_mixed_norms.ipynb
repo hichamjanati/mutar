{
  "cells": [
    {
      "cell_type": "code",
      "execution_count": null,
      "metadata": {
        "collapsed": false
      },
      "outputs": [],
      "source": [
        "%matplotlib inline"
      ]
    },
    {
      "cell_type": "markdown",
      "metadata": {},
      "source": [
        "\nComparison of mixed-norm models\n===============================\n\nThis example compares the Group Lasso, Dirty models and multilevel Lasso.\n\n`DirtyModel` estimates a set of sparse coefficients for multiple regression\nmodels that share a fraction of non-zero features. It is a generalization of\nThe `GroupLasso` estimator. It also takes a 3D `X (n_tasks, n_samples,\nn_features)` and a 2D `y (n_tasks, n_samples)`.\n\nDirtyModel solves the optimization problem::\n\n\n        (1 / (2 * n_samples)) * ||Y - X(W_1 + W_2)||^2_Fro + alpha * ||W_1||_21\n        + beta * ||W_2||_1\n\nWhere::\n\n        ||W||_21 = \\sum_i \\sqrt{\\sum_j w_ij^2}\n\ni.e. the sum of norm of each row. and::\n\n        ||W||_1 = \\sum_i \\sum_j |w_ij|\n\nThe multi-level Lasso uses instead a product decomposition.\nThe optimization objective for the Multilevel Lasso is::\n\n        (1 / (2 * n_samples)) * ||Y - XW||^2_Fro + alpha ||W||_{1 0.5}\n\n\n    Where::\n\n        ||W||_{1 0.5} = sum_j sqrt(||W_j||_1)\n\n\n    Which is equivelent to the product decomposition:\n\n        (1 / (2 * n_samples)) * ||Y - X(C[:, None] * S)||^2_Fro\n        + beta * ||C||_1 + gamma * ||S||_1\n\n    Where::\n\n        C in R^n_features\n        S in R^(n_features, n_tasks)\n        alpha = 2 * sqrt(beta * gamma)\n\n\n"
      ]
    },
    {
      "cell_type": "code",
      "execution_count": null,
      "metadata": {
        "collapsed": false
      },
      "outputs": [],
      "source": [
        "# Author: Hicham Janati (hicham.janati@inria.fr)\n#\n# License: BSD (3-clause)\n\nimport numpy as np\nfrom matplotlib import pyplot as plt\n\nfrom mutar import DirtyModel, MultiLevelLasso, IndLasso, GroupLasso"
      ]
    },
    {
      "cell_type": "markdown",
      "metadata": {},
      "source": [
        "Generate multi-task data\n\n\n"
      ]
    },
    {
      "cell_type": "code",
      "execution_count": null,
      "metadata": {
        "collapsed": false
      },
      "outputs": [],
      "source": [
        "rng = np.random.RandomState(42)\nn_tasks, n_samples, n_features = 10, 20, 50\nX = rng.randn(n_tasks, n_samples, n_features)\n\n# generate random coefficients and make it sparse\n# select support\nsupport = rng.rand(n_features, n_tasks) > 0.97\ncoef = support * rng.randn(n_features, n_tasks)\n\n# make features 0, 2, 4 and 6 shared\ncoef[:7:2] = rng.randn(4, n_tasks)\n\ny = np.array([x.dot(c) for x, c in zip(X, coef.T)])\n\n# add noise\ny += 0.2 * np.std(y) + rng.randn(n_tasks, n_samples)"
      ]
    },
    {
      "cell_type": "markdown",
      "metadata": {},
      "source": [
        "Lasso fit\n\n"
      ]
    },
    {
      "cell_type": "code",
      "execution_count": null,
      "metadata": {
        "collapsed": false
      },
      "outputs": [],
      "source": [
        "alpha = 0.5 * np.ones(n_tasks)\nlasso = IndLasso(alpha=alpha)\nlasso.fit(X, y)"
      ]
    },
    {
      "cell_type": "markdown",
      "metadata": {},
      "source": [
        "Group Lasso fit\n\n"
      ]
    },
    {
      "cell_type": "code",
      "execution_count": null,
      "metadata": {
        "collapsed": false
      },
      "outputs": [],
      "source": [
        "alpha = 1.75\ngl = GroupLasso(alpha=alpha)\ngl.fit(X, y)"
      ]
    },
    {
      "cell_type": "markdown",
      "metadata": {},
      "source": [
        "Dirty models fit\n\n"
      ]
    },
    {
      "cell_type": "code",
      "execution_count": null,
      "metadata": {
        "collapsed": false
      },
      "outputs": [],
      "source": [
        "alpha = 0.8\nbeta = 0.4\ndirty = DirtyModel(alpha=alpha, beta=beta)\ndirty.fit(X, y)"
      ]
    },
    {
      "cell_type": "markdown",
      "metadata": {},
      "source": [
        "Multilevel Lasso fit\n\n"
      ]
    },
    {
      "cell_type": "code",
      "execution_count": null,
      "metadata": {
        "collapsed": false
      },
      "outputs": [],
      "source": [
        "alpha = 0.25\nmll = MultiLevelLasso(alpha=alpha)\nmll.fit(X, y)"
      ]
    },
    {
      "cell_type": "markdown",
      "metadata": {},
      "source": [
        "we show the R2 scores for each model. Each dot corresponds to a task.\n\n"
      ]
    },
    {
      "cell_type": "code",
      "execution_count": null,
      "metadata": {
        "collapsed": false
      },
      "outputs": [],
      "source": [
        "models = [None, lasso, gl, dirty, mll]\nnames = [\"Truth\", \"Lasso\", \"Group Lasso\", \"Dirty\", \"MultiLevel Lasso\"]\n\nf, ax = plt.subplots(1, 1)\nfor i, (name, model) in enumerate(zip(names[1:], models[1:])):\n    r2 = model.score(X, y)\n    ax.scatter(n_tasks * [i + 1], 100 * r2)\nax.set_ylabel(\"% of variance explained\")\nax.set_xticks(np.arange(1, len(models)))\nax.set_xticklabels(names[1:])\nax.grid(True)\nplt.show()"
      ]
    },
    {
      "cell_type": "markdown",
      "metadata": {},
      "source": [
        "Plot the supports of the true and obtained coefficients for all models\n\n"
      ]
    },
    {
      "cell_type": "code",
      "execution_count": null,
      "metadata": {
        "collapsed": false
      },
      "outputs": [],
      "source": [
        "f, axes = plt.subplots(1, 5, figsize=(12, 4))\nfor i, (ax, model, name) in enumerate(zip(axes, models, names)):\n    if i == 0:\n        ax.imshow(coef != 0)\n    else:\n        ax.imshow(model.coef_ != 0)\n    ax.set_title(name)\n    ax.set_xlabel(\"Tasks\")\n    ax.set_ylabel(\"Features\")\nplt.show()"
      ]
    }
  ],
  "metadata": {
    "kernelspec": {
      "display_name": "Python 3",
      "language": "python",
      "name": "python3"
    },
    "language_info": {
      "codemirror_mode": {
        "name": "ipython",
        "version": 3
      },
      "file_extension": ".py",
      "mimetype": "text/x-python",
      "name": "python",
      "nbconvert_exporter": "python",
      "pygments_lexer": "ipython3",
      "version": "3.6.8"
    }
  },
  "nbformat": 4,
  "nbformat_minor": 0
}