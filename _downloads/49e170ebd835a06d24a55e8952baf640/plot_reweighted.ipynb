{
  "cells": [
    {
      "cell_type": "code",
      "execution_count": null,
      "metadata": {
        "collapsed": false
      },
      "outputs": [],
      "source": [
        "%matplotlib inline"
      ]
    },
    {
      "cell_type": "markdown",
      "metadata": {},
      "source": [
        "\nAdaptive / Reweighted Lasso\n===========================\n\nThe adaptive or reweighted Lasso minimizes the non-convex L0.5 pseudo norm\nwhich is a better sparsity proxy function for the Basis Pursuit L0 norm. In\npractice, it promotes sparser coefficients with less amplitude bias. As with\n`IndLasso`, `IndRewLasso` is independent across tasks.\n\n`IndRewLasso` solves the optimization problem::\n\n\n        (1 / (2 * n_samples)) * ||Y - XW||_Fro^2\n        + \\sum_k alpha_k * ||W_k||_0.5\n\n\n\n"
      ]
    },
    {
      "cell_type": "code",
      "execution_count": null,
      "metadata": {
        "collapsed": false
      },
      "outputs": [],
      "source": [
        "# Author: Hicham Janati (hicham.janati@inria.fr)\n#\n# License: BSD (3-clause)\n\nimport numpy as np\nfrom matplotlib import pyplot as plt\n\nfrom mutar import IndLasso, IndRewLasso"
      ]
    },
    {
      "cell_type": "markdown",
      "metadata": {},
      "source": [
        "Generate multi-task data\n\n\n"
      ]
    },
    {
      "cell_type": "code",
      "execution_count": null,
      "metadata": {
        "collapsed": false
      },
      "outputs": [],
      "source": [
        "rng = np.random.RandomState(42)\nn_tasks, n_samples, n_features = 2, 20, 100\nX = rng.randn(n_tasks, n_samples, n_features)\n\nsupport = rng.rand(n_features, n_tasks) > 0.95\ncoef = support * rng.randn(n_features, n_tasks) * 5\n\ny = np.array([x.dot(c) for x, c in zip(X, coef.T)])\n\n# add noise\ny += 0.5 * np.std(y) + rng.randn(n_tasks, n_samples)\n\nalpha = 0.05 * np.ones(n_tasks)"
      ]
    },
    {
      "cell_type": "markdown",
      "metadata": {},
      "source": [
        "Fit the independent Lasso\n\n"
      ]
    },
    {
      "cell_type": "code",
      "execution_count": null,
      "metadata": {
        "collapsed": false
      },
      "outputs": [],
      "source": [
        "lasso = IndLasso(alpha=alpha)\nlasso.fit(X, y)"
      ]
    },
    {
      "cell_type": "markdown",
      "metadata": {},
      "source": [
        "Fit the independent reweighted Lasso\n\n"
      ]
    },
    {
      "cell_type": "code",
      "execution_count": null,
      "metadata": {
        "collapsed": false
      },
      "outputs": [],
      "source": [
        "rewlasso = IndRewLasso(alpha=alpha)\nrewlasso.fit(X, y)"
      ]
    },
    {
      "cell_type": "markdown",
      "metadata": {},
      "source": [
        "Plot the supports of the true and obtained coefficients.\nReweighting reduces the size of the active features and corrects\nthe amplitudes of the relevant coefficients\n\n"
      ]
    },
    {
      "cell_type": "code",
      "execution_count": null,
      "metadata": {
        "collapsed": false
      },
      "outputs": [],
      "source": [
        "coefs = [coef, lasso.coef_, rewlasso.coef_]\nlabels = [\"Truth\", \"Lasso\", \"Re-Lasso\"]\ncolors = [\"k\", \"b\", \"r\"]\nlines = [\"-\", \"--\", \"--\"]\nf, axes = plt.subplots(1, 2, figsize=(12, 4))\nfor c, ll, coefs, label in zip(colors, lines, coefs, labels):\n    for i, (ax, coef) in enumerate(zip(axes, coefs.T)):\n        # plot non-zero coefs only for clarity\n        xx = np.where(coef)[0]\n        yy = coef[xx]\n        ax.stem(xx, yy, label=label, linefmt=c + ll,\n                markerfmt=c + 'x', basefmt=c + ll)\n        ax.set_title(\"Coeffcient of task %d\" % (i + 1))\nax.legend(loc=2, bbox_to_anchor=[1.01, 0.75])\nplt.show()"
      ]
    }
  ],
  "metadata": {
    "kernelspec": {
      "display_name": "Python 3",
      "language": "python",
      "name": "python3"
    },
    "language_info": {
      "codemirror_mode": {
        "name": "ipython",
        "version": 3
      },
      "file_extension": ".py",
      "mimetype": "text/x-python",
      "name": "python",
      "nbconvert_exporter": "python",
      "pygments_lexer": "ipython3",
      "version": "3.6.8"
    }
  },
  "nbformat": 4,
  "nbformat_minor": 0
}