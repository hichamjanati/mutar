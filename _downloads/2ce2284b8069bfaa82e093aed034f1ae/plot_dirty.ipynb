{
  "cells": [
    {
      "cell_type": "code",
      "execution_count": null,
      "metadata": {
        "collapsed": false
      },
      "outputs": [],
      "source": [
        "%matplotlib inline"
      ]
    },
    {
      "cell_type": "markdown",
      "metadata": {},
      "source": [
        "\nJoint feature selection with Dirty models\n=========================================\n\n`DirtyModel` estimates a set of sparse coefficients for multiple regression\nmodels that share a fraction of non-zero features. It is a generalization of\nThe `GroupLasso` estimator. It also takes a 3D `X (n_tasks, n_samples,\nn_features)` and a 2D `y (n_tasks, n_samples)`.\n\nDirtyModel solves the optimization problem::\n\n\n        (1 / (2 * n_samples)) * ||Y - X(W_1 + W_2)||^2_Fro + alpha * ||W_1||_21\n        + beta * ||W_2||_1\n\nWhere::\n\n        ||W||_21 = \\sum_i \\sqrt{\\sum_j w_ij^2}\n\ni.e. the sum of norm of each row. and::\n\n        ||W||_1 = \\sum_i \\sum_j |w_ij|\n\n\n"
      ]
    },
    {
      "cell_type": "code",
      "execution_count": null,
      "metadata": {
        "collapsed": false
      },
      "outputs": [],
      "source": [
        "# Author: Hicham Janati (hicham.janati@inria.fr)\n#\n# License: BSD (3-clause)\n\nimport numpy as np\nfrom matplotlib import pyplot as plt\n\nfrom mutar import DirtyModel"
      ]
    },
    {
      "cell_type": "markdown",
      "metadata": {},
      "source": [
        "Generate multi-task data\n\n\n"
      ]
    },
    {
      "cell_type": "code",
      "execution_count": null,
      "metadata": {
        "collapsed": false
      },
      "outputs": [],
      "source": [
        "rng = np.random.RandomState(42)\nn_tasks, n_samples, n_features = 10, 100, 30\nX = rng.randn(n_tasks, n_samples, n_features)\n\n# generate random coefficients and make it sparse\n# select support\nsupport = rng.rand(n_features, n_tasks) > 0.95\ncoef = support * rng.randn(n_features, n_tasks)\n\n# make features 0, 2, 4 and 6 shared\ncoef[:7:2] = rng.randn(4, n_tasks)\n\ny = np.array([x.dot(c) for x, c in zip(X, coef.T)])\n\n# add noise\ny += 0.2 * np.std(y) + rng.randn(n_tasks, n_samples)"
      ]
    },
    {
      "cell_type": "markdown",
      "metadata": {},
      "source": [
        "Dirty models fit\n\n"
      ]
    },
    {
      "cell_type": "code",
      "execution_count": null,
      "metadata": {
        "collapsed": false
      },
      "outputs": [],
      "source": [
        "alpha = 0.5\nbeta = 0.25\ndirty = DirtyModel(alpha=alpha, beta=beta)\ndirty.fit(X, y)"
      ]
    },
    {
      "cell_type": "markdown",
      "metadata": {},
      "source": [
        "Plot the supports of the true and obtained coefficients.\n\n"
      ]
    },
    {
      "cell_type": "code",
      "execution_count": null,
      "metadata": {
        "collapsed": false
      },
      "outputs": [],
      "source": [
        "f, axes = plt.subplots(1, 2, figsize=(12, 4))\nfor ax, coef, name in zip(axes, [coef, dirty.coef_], [\"True\", \"DirtyModel\"]):\n    ax.imshow(coef != 0)\n    ax.set_title(name)\n    ax.set_xlabel(\"Tasks\")\n    ax.set_ylabel(\"Features\")\n\nplt.show()"
      ]
    }
  ],
  "metadata": {
    "kernelspec": {
      "display_name": "Python 3",
      "language": "python",
      "name": "python3"
    },
    "language_info": {
      "codemirror_mode": {
        "name": "ipython",
        "version": 3
      },
      "file_extension": ".py",
      "mimetype": "text/x-python",
      "name": "python",
      "nbconvert_exporter": "python",
      "pygments_lexer": "ipython3",
      "version": "3.6.8"
    }
  },
  "nbformat": 4,
  "nbformat_minor": 0
}